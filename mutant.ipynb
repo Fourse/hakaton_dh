{
 "cells": [
  {
   "cell_type": "code",
   "execution_count": 1,
   "metadata": {},
   "outputs": [],
   "source": [
    "import numpy as np\n",
    "import pandas as pd\n",
    "import nltk\n",
    "import re\n",
    "import os\n",
    "import codecs\n",
    "from sklearn import feature_extraction\n",
    "import mpld3\n",
    "import matplotlib.pyplot as plt\n",
    "import matplotlib as mpl"
   ]
  },
  {
   "cell_type": "code",
   "execution_count": 2,
   "metadata": {},
   "outputs": [],
   "source": [
    "\n",
    "titles = open('cut_21.csv', 'r', encoding='utf-8', errors='ignore').read().split('\\n')\n",
    "#print(str(len(titles)) + ' запросов считано')\n",
    "\n",
    "from nltk.stem.snowball import SnowballStemmer\n",
    "stemmer = SnowballStemmer(\"russian\")\n",
    "\n",
    "def token_and_stem(text):\n",
    "    tokens = [word for sent in nltk.sent_tokenize(text) for word in nltk.word_tokenize(sent)]\n",
    "    filtered_tokens = []\n",
    "    for token in tokens:\n",
    "        if re.search('[а-яА-Я]', token):\n",
    "            filtered_tokens.append(token)\n",
    "    stems = [stemmer.stem(t) for t in filtered_tokens]\n",
    "    return stems\n",
    "\n",
    "def token_only(text):\n",
    "    tokens = [word.lower() for sent in nltk.sent_tokenize(text) for word in nltk.word_tokenize(sent)]\n",
    "    filtered_tokens = []\n",
    "    for token in tokens:\n",
    "        if re.search('[а-яА-Я]', token):\n",
    "            filtered_tokens.append(token)\n",
    "    return filtered_tokens\n",
    "\n",
    "#Создаем словари (массивы) из полученных основ\n",
    "totalvocab_stem = []\n",
    "totalvocab_token = []\n",
    "for i in titles:\n",
    "    allwords_stemmed = token_and_stem(i)\n",
    "    #print(allwords_stemmed)\n",
    "    totalvocab_stem.extend(allwords_stemmed)\n",
    "    \n",
    "    allwords_tokenized = token_only(i)\n",
    "    totalvocab_token.extend(allwords_tokenized)\n",
    "    \n",
    "titles = open('cut_20.csv', 'r', encoding='utf-8', errors='ignore').read().split('\\n')\n",
    "for i in titles:\n",
    "    allwords_stemmed = token_and_stem(i)\n",
    "    #print(allwords_stemmed)\n",
    "    totalvocab_stem.extend(allwords_stemmed)\n",
    "    \n",
    "    allwords_tokenized = token_only(i)\n",
    "    totalvocab_token.extend(allwords_tokenized)\n",
    "\n",
    "titles = open('cut_19.csv', 'r', encoding='utf-8', errors='ignore').read().split('\\n')\n",
    "for i in titles:\n",
    "    allwords_stemmed = token_and_stem(i)\n",
    "    #print(allwords_stemmed)\n",
    "    totalvocab_stem.extend(allwords_stemmed)\n",
    "    \n",
    "    allwords_tokenized = token_only(i)\n",
    "    totalvocab_token.extend(allwords_tokenized)\n",
    "    \n",
    "titles = open('18_age.csv', 'r', encoding='utf-8', errors='ignore').read().split('\\n')\n",
    "for i in titles:\n",
    "    allwords_stemmed = token_and_stem(i)\n",
    "    #print(allwords_stemmed)\n",
    "    totalvocab_stem.extend(allwords_stemmed)\n",
    "    \n",
    "    allwords_tokenized = token_only(i)\n",
    "    totalvocab_token.extend(allwords_tokenized)\n",
    "\n",
    "titles = open('17_age.csv', 'r', encoding='utf-8', errors='ignore').read().split('\\n')\n",
    "for i in titles:\n",
    "    allwords_stemmed = token_and_stem(i)\n",
    "    #print(allwords_stemmed)\n",
    "    totalvocab_stem.extend(allwords_stemmed)\n",
    "    \n",
    "    allwords_tokenized = token_only(i)\n",
    "    totalvocab_token.extend(allwords_tokenized)"
   ]
  },
  {
   "cell_type": "code",
   "execution_count": 3,
   "metadata": {},
   "outputs": [
    {
     "name": "stdout",
     "output_type": "stream",
     "text": [
      "CPU times: user 989 ms, sys: 17.4 ms, total: 1.01 s\n",
      "Wall time: 1.01 s\n",
      "(125, 1588)\n"
     ]
    }
   ],
   "source": [
    "from sklearn.feature_extraction.text import TfidfVectorizer, CountVectorizer\n",
    "\n",
    "n_featur=200000\n",
    "tfidf_vectorizer = TfidfVectorizer(max_df=0.8, max_features=10000,\n",
    "                                 min_df=0.01,\n",
    "                                 use_idf=True, tokenizer=token_and_stem, ngram_range=(1,3))\n",
    "get_ipython().magic('time tfidf_matrix = tfidf_vectorizer.fit_transform(titles)')\n",
    "print(tfidf_matrix.shape)"
   ]
  },
  {
   "cell_type": "code",
   "execution_count": 4,
   "metadata": {},
   "outputs": [
    {
     "name": "stdout",
     "output_type": "stream",
     "text": [
      "CPU times: user 56 ms, sys: 1.01 ms, total: 57 ms\n",
      "Wall time: 57.2 ms\n",
      "[4, 0, 0, 0, 0, 4, 0, 0, 3, 0, 0, 3, 3, 4, 3, 0, 3, 3, 3, 0, 3, 0, 3, 4, 0, 3, 4, 4, 3, 3, 0, 0, 3, 3, 3, 3, 3, 3, 4, 4, 0, 4, 4, 4, 3, 3, 4, 4, 4, 4, 3, 4, 4, 4, 4, 3, 3, 4, 4, 1, 2, 1, 2, 1, 2, 2, 2, 2, 2, 1, 1, 1, 2, 2, 2, 1, 1, 1, 1, 2, 2, 2, 1, 1, 1, 2, 2, 1, 2, 1, 1, 1, 1, 2, 2, 1, 1, 1, 2, 1, 1, 1, 2, 1, 1, 2, 1, 1, 1, 2, 2, 2, 1, 1, 1, 1, 1, 1, 1, 2, 2, 2, 2, 1, 4]\n",
      "[4 0 0 0 0 4 0 0 3 0 0 3 3 4 3 0 3 3 3 0 3 0 3 4 0 3 4 4 3 3 0 0 3 3 3 3 3\n",
      " 3 4 4 0 4 4 4 3 3 4 4 4 4 3 4 4 4 4 3 3 4 4 1 2 1 2 1 2 2 2 2 2 1 1 1 2 2\n",
      " 2 1 1 1 1 2 2 2 1 1 1 2 2 1 2 1 1 1 1 2 2 1 1 1 2 1 1 1 2 1 1 2 1 1 1 2 2\n",
      " 2 1 1 1 1 1 1 1 2 2 2 2 1 4]\n",
      "CPU times: user 18 ms, sys: 374 µs, total: 18.4 ms\n",
      "Wall time: 18.4 ms\n",
      "[3 4 4 4 4 3 4 4 3 3 4 4 3 3 4 4 3 3 3 4 3 4 3 3 4 3 3 3 3 3 4 4 4 3 3 3 3\n",
      " 3 3 3 4 3 3 3 3 3 3 3 3 3 3 3 3 3 3 3 3 3 3 2 2 2 2 2 2 2 2 2 2 2 0 2 2 0\n",
      " 0 0 0 0 0 0 0 1 0 0 0 0 2 0 2 0 2 0 0 0 0 2 0 2 1 0 0 0 2 2 0 2 0 2 0 0 0\n",
      " 0 2 2 0 2 2 2 2 1 2 2 0 1 3]\n",
      "CPU times: user 3.74 ms, sys: 301 µs, total: 4.04 ms\n",
      "Wall time: 3.56 ms\n",
      "[-1 -1 -1 -1 -1 -1 -1 -1 -1 -1 -1 -1 -1 -1 -1 -1 -1 -1 -1 -1 -1 -1 -1 -1\n",
      " -1 -1 -1 -1 -1 -1 -1 -1 -1 -1 -1 -1 -1 -1 -1 -1 -1 -1 -1 -1 -1 -1 -1 -1\n",
      " -1 -1 -1 -1 -1 -1 -1 -1 -1 -1 -1 -1 -1 -1 -1 -1 -1 -1 -1 -1 -1 -1 -1 -1\n",
      " -1 -1 -1 -1 -1 -1 -1 -1 -1 -1 -1 -1 -1 -1 -1 -1 -1 -1 -1 -1 -1 -1 -1 -1\n",
      " -1 -1 -1 -1 -1 -1 -1 -1 -1 -1 -1 -1 -1 -1 -1 -1 -1 -1 -1 -1 -1 -1 -1 -1\n",
      " -1 -1 -1 -1 -1]\n",
      "CPU times: user 18.9 ms, sys: 2.24 ms, total: 21.2 ms\n",
      "Wall time: 24.3 ms\n"
     ]
    },
    {
     "data": {
      "text/plain": [
       "(125,)"
      ]
     },
     "execution_count": 4,
     "metadata": {},
     "output_type": "execute_result"
    }
   ],
   "source": [
    "num_clusters = 5\n",
    "\n",
    "# Метод к-средних - KMeans\n",
    "from sklearn.cluster import KMeans\n",
    "\n",
    "km = KMeans(n_clusters=num_clusters)\n",
    "get_ipython().magic('time km.fit(tfidf_matrix)')\n",
    "idx = km.fit(tfidf_matrix)\n",
    "clusters = km.labels_.tolist()\n",
    "\n",
    "print(clusters)\n",
    "print (km.labels_)\n",
    "\n",
    "# MiniBatchKMeans\n",
    "from sklearn.cluster import MiniBatchKMeans\n",
    "\n",
    "mbk  = MiniBatchKMeans(init='random', n_clusters=num_clusters) #(init='k-means++', ‘random’ or an ndarray)\n",
    "mbk.fit_transform(tfidf_matrix)\n",
    "%time mbk.fit(tfidf_matrix)\n",
    "miniclusters = mbk.labels_.tolist()\n",
    "print (mbk.labels_)\n",
    "\n",
    "\n",
    "# DBSCAN\n",
    "from sklearn.cluster import DBSCAN\n",
    "get_ipython().magic('time db = DBSCAN(eps=0.3, min_samples=10).fit(tfidf_matrix)')\n",
    "labels = db.labels_\n",
    "labels.shape\n",
    "print(labels)\n",
    "\n",
    "# Аггломеративная класстеризация\n",
    "from sklearn.cluster import AgglomerativeClustering\n",
    "\n",
    "agglo1 = AgglomerativeClustering(n_clusters=num_clusters, affinity='euclidean') #affinity можно выбрать любое или попробовать все по очереди: cosine, l1, l2, manhattan\n",
    "get_ipython().magic('time answer = agglo1.fit_predict(tfidf_matrix.toarray())')\n",
    "answer.shape"
   ]
  },
  {
   "cell_type": "code",
   "execution_count": 9,
   "metadata": {},
   "outputs": [
    {
     "data": {
      "text/plain": [
       "0    40\n",
       "4    33\n",
       "2    32\n",
       "1    13\n",
       "3     7\n",
       "Name: cluster, dtype: int64"
      ]
     },
     "execution_count": 9,
     "metadata": {},
     "output_type": "execute_result"
    }
   ],
   "source": [
    "#k-means\n",
    "clusterkm = km.labels_.tolist()\n",
    "#minikmeans\n",
    "clustermbk = mbk.labels_.tolist()\n",
    "#dbscan\n",
    "clusters3 = labels\n",
    " #agglo\n",
    "#clusters4 = answer.tolist()\n",
    "\n",
    "frame = pd.DataFrame(titles, index = [clusterkm])\n",
    "\n",
    "#k-means\n",
    "out = { 'title': titles, 'cluster': clusterkm }\n",
    "frame1 = pd.DataFrame(out, index = [clusterkm], columns = ['title', 'cluster'])\n",
    "\n",
    "#mini\n",
    "out = { 'title': titles, 'cluster': clustermbk }\n",
    "frame_minik = pd.DataFrame(out, index = [clustermbk], columns = ['title', 'cluster'])\n",
    "\n",
    "frame1['cluster'].value_counts()\n",
    "frame_minik['cluster'].value_counts()"
   ]
  },
  {
   "cell_type": "code",
   "execution_count": 10,
   "metadata": {},
   "outputs": [
    {
     "data": {
      "text/plain": [
       "(125, 125)"
      ]
     },
     "execution_count": 10,
     "metadata": {},
     "output_type": "execute_result"
    }
   ],
   "source": [
    "from sklearn.metrics.pairwise import cosine_similarity\n",
    "dist = 1 - cosine_similarity(tfidf_matrix)\n",
    "dist.shape\n"
   ]
  },
  {
   "cell_type": "code",
   "execution_count": 5,
   "metadata": {},
   "outputs": [
    {
     "ename": "NameError",
     "evalue": "name 'dist' is not defined",
     "output_type": "error",
     "traceback": [
      "\u001b[0;31m---------------------------------------------------------------------------\u001b[0m",
      "\u001b[0;31mNameError\u001b[0m                                 Traceback (most recent call last)",
      "\u001b[0;32m<timed eval>\u001b[0m in \u001b[0;36m<module>\u001b[0;34m\u001b[0m\n",
      "\u001b[0;31mNameError\u001b[0m: name 'dist' is not defined"
     ]
    },
    {
     "ename": "NameError",
     "evalue": "name 'dist' is not defined",
     "output_type": "error",
     "traceback": [
      "\u001b[0;31m---------------------------------------------------------------------------\u001b[0m",
      "\u001b[0;31mNameError\u001b[0m                                 Traceback (most recent call last)",
      "\u001b[0;32m<timed exec>\u001b[0m in \u001b[0;36m<module>\u001b[0;34m\u001b[0m\n",
      "\u001b[0;31mNameError\u001b[0m: name 'dist' is not defined"
     ]
    },
    {
     "ename": "NameError",
     "evalue": "name 'demo2' is not defined",
     "output_type": "error",
     "traceback": [
      "\u001b[0;31m---------------------------------------------------------------------------\u001b[0m",
      "\u001b[0;31mNameError\u001b[0m                                 Traceback (most recent call last)",
      "\u001b[0;32m<ipython-input-5-12b875ee4848>\u001b[0m in \u001b[0;36m<module>\u001b[0;34m\u001b[0m\n\u001b[1;32m      5\u001b[0m \u001b[0mget_ipython\u001b[0m\u001b[0;34m(\u001b[0m\u001b[0;34m)\u001b[0m\u001b[0;34m.\u001b[0m\u001b[0mmagic\u001b[0m\u001b[0;34m(\u001b[0m\u001b[0;34m'time icpa.fit(dist) #demo ='\u001b[0m\u001b[0;34m)\u001b[0m\u001b[0;34m\u001b[0m\u001b[0;34m\u001b[0m\u001b[0m\n\u001b[1;32m      6\u001b[0m \u001b[0mget_ipython\u001b[0m\u001b[0;34m(\u001b[0m\u001b[0;34m)\u001b[0m\u001b[0;34m.\u001b[0m\u001b[0mmagic\u001b[0m\u001b[0;34m(\u001b[0m\u001b[0;34m'time demo2 = icpa.transform(dist)'\u001b[0m\u001b[0;34m)\u001b[0m\u001b[0;34m\u001b[0m\u001b[0;34m\u001b[0m\u001b[0m\n\u001b[0;32m----> 7\u001b[0;31m \u001b[0mxs\u001b[0m\u001b[0;34m,\u001b[0m \u001b[0mys\u001b[0m \u001b[0;34m=\u001b[0m \u001b[0mdemo2\u001b[0m\u001b[0;34m[\u001b[0m\u001b[0;34m:\u001b[0m\u001b[0;34m,\u001b[0m \u001b[0;36m0\u001b[0m\u001b[0;34m]\u001b[0m\u001b[0;34m,\u001b[0m \u001b[0mdemo2\u001b[0m\u001b[0;34m[\u001b[0m\u001b[0;34m:\u001b[0m\u001b[0;34m,\u001b[0m \u001b[0;36m1\u001b[0m\u001b[0;34m]\u001b[0m\u001b[0;34m\u001b[0m\u001b[0;34m\u001b[0m\u001b[0m\n\u001b[0m\u001b[1;32m      8\u001b[0m \u001b[0;34m\u001b[0m\u001b[0m\n\u001b[1;32m      9\u001b[0m \u001b[0;31m# PCA 3D\u001b[0m\u001b[0;34m\u001b[0m\u001b[0;34m\u001b[0m\u001b[0;34m\u001b[0m\u001b[0m\n",
      "\u001b[0;31mNameError\u001b[0m: name 'demo2' is not defined"
     ]
    }
   ],
   "source": [
    "# Метод главных компонент - PCA\n",
    "\n",
    "from sklearn.decomposition import IncrementalPCA\n",
    "icpa = IncrementalPCA(n_components=2, batch_size=16)\n",
    "get_ipython().magic('time icpa.fit(dist) #demo =')\n",
    "get_ipython().magic('time demo2 = icpa.transform(dist)')\n",
    "xs, ys = demo2[:, 0], demo2[:, 1]\n",
    "\n",
    "# PCA 3D\n",
    "from sklearn.decomposition import IncrementalPCA\n",
    "icpa = IncrementalPCA(n_components=3, batch_size=16)\n",
    "get_ipython().magic('time icpa.fit(dist) #demo =')\n",
    "get_ipython().magic('time ddd = icpa.transform(dist)')\n",
    "xs, ys, zs = ddd[:, 0], ddd[:, 1], ddd[:, 2]\n",
    "\n",
    "#Можно сразу примерно посмотреть, что получится в итоге\n",
    "#from mpl_toolkits.mplot3d import Axes3D\n",
    "#fig = plt.figure()\n",
    "#ax = fig.add_subplot(111, projection='3d')\n",
    "#ax.scatter(xs, ys, zs)\n",
    "#ax.set_xlabel('X')\n",
    "#ax.set_ylabel('Y')\n",
    "#ax.set_zlabel('Z')\n",
    "#plt.show()"
   ]
  },
  {
   "cell_type": "code",
   "execution_count": 6,
   "metadata": {},
   "outputs": [
    {
     "ename": "NameError",
     "evalue": "name 'xs' is not defined",
     "output_type": "error",
     "traceback": [
      "\u001b[0;31m---------------------------------------------------------------------------\u001b[0m",
      "\u001b[0;31mNameError\u001b[0m                                 Traceback (most recent call last)",
      "\u001b[0;32m<ipython-input-6-40c3a4251def>\u001b[0m in \u001b[0;36m<module>\u001b[0;34m\u001b[0m\n\u001b[1;32m     20\u001b[0m \u001b[0;34m\u001b[0m\u001b[0m\n\u001b[1;32m     21\u001b[0m \u001b[0;31m#создаем data frame, который содержит координаты (из PCA) + номера кластеров и сами запросы\u001b[0m\u001b[0;34m\u001b[0m\u001b[0;34m\u001b[0m\u001b[0;34m\u001b[0m\u001b[0m\n\u001b[0;32m---> 22\u001b[0;31m \u001b[0mdf\u001b[0m \u001b[0;34m=\u001b[0m \u001b[0mpd\u001b[0m\u001b[0;34m.\u001b[0m\u001b[0mDataFrame\u001b[0m\u001b[0;34m(\u001b[0m\u001b[0mdict\u001b[0m\u001b[0;34m(\u001b[0m\u001b[0mx\u001b[0m\u001b[0;34m=\u001b[0m\u001b[0mxs\u001b[0m\u001b[0;34m,\u001b[0m \u001b[0my\u001b[0m\u001b[0;34m=\u001b[0m\u001b[0mys\u001b[0m\u001b[0;34m,\u001b[0m \u001b[0mlabel\u001b[0m\u001b[0;34m=\u001b[0m\u001b[0mclusterkm\u001b[0m\u001b[0;34m,\u001b[0m \u001b[0mtitle\u001b[0m\u001b[0;34m=\u001b[0m\u001b[0mtitles\u001b[0m\u001b[0;34m)\u001b[0m\u001b[0;34m)\u001b[0m\u001b[0;34m\u001b[0m\u001b[0;34m\u001b[0m\u001b[0m\n\u001b[0m\u001b[1;32m     23\u001b[0m \u001b[0;31m#группируем по кластерам\u001b[0m\u001b[0;34m\u001b[0m\u001b[0;34m\u001b[0m\u001b[0;34m\u001b[0m\u001b[0m\n\u001b[1;32m     24\u001b[0m \u001b[0mgroups\u001b[0m \u001b[0;34m=\u001b[0m \u001b[0mdf\u001b[0m\u001b[0;34m.\u001b[0m\u001b[0mgroupby\u001b[0m\u001b[0;34m(\u001b[0m\u001b[0;34m'label'\u001b[0m\u001b[0;34m)\u001b[0m\u001b[0;34m\u001b[0m\u001b[0;34m\u001b[0m\u001b[0m\n",
      "\u001b[0;31mNameError\u001b[0m: name 'xs' is not defined"
     ]
    }
   ],
   "source": [
    "from matplotlib import rc\n",
    "#включаем русские символы на графике\n",
    "font = {'family' : 'Verdana'}#, 'weigth': 'normal'}\n",
    "rc('font', **font)\n",
    "\n",
    "#можно сгенерировать цвета для кластеров\n",
    "import random\n",
    "def generate_colors(n):\n",
    "    color_list = []\n",
    "    for c in range(0,n):\n",
    "        r = lambda: random.randint(0,255)\n",
    "        color_list.append( '#%02X%02X%02X' % (r(),r(),r()) )\n",
    "    return color_list\n",
    "\n",
    "#устанавливаем цвета\n",
    "cluster_colors = {0: 'green', 1: 'yellow', 2: 'red',  3: 'purple', 4: 'blue',}\n",
    "#даем имена кластерам, но из-за рандома пусть будут просто 01234\n",
    "cluster_names = {0: '0',  1: '1', 2: '2',  3: '3', 4: '4',}\n",
    "#matplotlib inline\n",
    "\n",
    "#создаем data frame, который содержит координаты (из PCA) + номера кластеров и сами запросы\n",
    "df = pd.DataFrame(dict(x=xs, y=ys, label=clusterkm, title=titles)) \n",
    "#группируем по кластерам\n",
    "groups = df.groupby('label')\n",
    "\n",
    "fig, ax = plt.subplots(figsize=(72, 36)) #figsize подбирается под ваш вкус\n",
    "\n",
    "for name, group in groups:\n",
    "    ax.plot(group.x, group.y, marker='o', linestyle='', ms=12, label=cluster_names[name], color=cluster_colors[name], mec='none')\n",
    "    ax.set_aspect('auto')\n",
    "    ax.tick_params(        axis= 'x',          \n",
    "        which='both',      \n",
    "        bottom='off',      \n",
    "        top='off',         \n",
    "        labelbottom='off')\n",
    "    ax.tick_params(        axis= 'y',         \n",
    "        which='both',     \n",
    "        left='off',      \n",
    "        top='off',       \n",
    "        labelleft='off')\n",
    "    \n",
    "ax.legend(numpoints=1)  #показать легенду только 1 точки\n",
    "\n",
    "#добавляем метки/названия в х,у позиции с поисковым запросом\n",
    "#for i in range(len(df)):\n",
    "#    ax.text(df.ix[i]['x'], df.ix[i]['y'], df.ix[i]['title'], size=6)  \n",
    "\n",
    "#показать график\n",
    "plt.show() \n",
    "plt.close()"
   ]
  },
  {
   "cell_type": "code",
   "execution_count": 19,
   "metadata": {},
   "outputs": [
    {
     "data": {
      "image/png": "[encoded data removed]",
      "text/plain": [
       "<Figure size 5184x2592 with 1 Axes>"
      ]
     },
     "metadata": {
      "needs_background": "light"
     },
     "output_type": "display_data"
    }
   ],
   "source": [
    "from matplotlib import rc\n",
    "#включаем русские символы на графике\n",
    "font = {'family' : 'Verdana'}#, 'weigth': 'normal'}\n",
    "rc('font', **font)\n",
    "\n",
    "#можно сгенерировать цвета для кластеров\n",
    "import random\n",
    "def generate_colors(n):\n",
    "    color_list = []\n",
    "    for c in range(0,n):\n",
    "        r = lambda: random.randint(0,255)\n",
    "        color_list.append( '#%02X%02X%02X' % (r(),r(),r()) )\n",
    "    return color_list\n",
    "\n",
    "#устанавливаем цвета\n",
    "cluster_colors = {0: '#ff0000', 1: '#ff0066', 2: '#ff0099',  3: '#ff00cc', 4: '#ff00ff',}\n",
    "#даем имена кластерам, но из-за рандома пусть будут просто 01234\n",
    "cluster_names = {0: '0',  1: '1', 2: '2',  3: '3', 4: '4',}\n",
    "#matplotlib inline\n",
    "\n",
    "#создаем data frame, который содержит координаты (из PCA) + номера кластеров и сами запросы\n",
    "df = pd.DataFrame(dict(x=xs, y=ys, label=clusterkm, title=titles)) \n",
    "#группируем по кластерам\n",
    "groups = df.groupby('label')\n",
    "\n",
    "fig, ax = plt.subplots(figsize=(72, 36)) #figsize подбирается под ваш вкус\n",
    "\n",
    "for name, group in groups:\n",
    "    ax.plot(group.x, group.y, marker='o', linestyle='', ms=12, label=cluster_names[name], color=cluster_colors[name], mec='none')\n",
    "    ax.set_aspect('auto')\n",
    "    ax.tick_params(        axis= 'x',          \n",
    "        which='both',      \n",
    "        bottom='off',      \n",
    "        top='off',         \n",
    "        labelbottom='off')\n",
    "    ax.tick_params(        axis= 'y',         \n",
    "        which='both',     \n",
    "        left='off',      \n",
    "        top='off',       \n",
    "        labelleft='off')\n",
    "    \n",
    "ax.legend(numpoints=1)  #показать легенду только 1 точки\n",
    "\n",
    "#добавляем метки/названия в х,у позиции с поисковым запросом\n",
    "#for i in range(len(df)):\n",
    "#    ax.text(df.ix[i]['x'], df.ix[i]['y'], df.ix[i]['title'], size=6)  \n",
    "\n",
    "#показать график\n",
    "plt.show() \n",
    "plt.close()"
   ]
  },
  {
   "cell_type": "code",
   "execution_count": 7,
   "metadata": {},
   "outputs": [
    {
     "ename": "SyntaxError",
     "evalue": "invalid syntax (<ipython-input-7-ae924f833138>, line 33)",
     "output_type": "error",
     "traceback": [
      "\u001b[0;36m  File \u001b[0;32m\"<ipython-input-7-ae924f833138>\"\u001b[0;36m, line \u001b[0;32m33\u001b[0m\n\u001b[0;31m    fig, ax = plt.subplots(figsize=(51,25))\u001b[0m\n\u001b[0m    ^\u001b[0m\n\u001b[0;31mSyntaxError\u001b[0m\u001b[0;31m:\u001b[0m invalid syntax\n"
     ]
    }
   ],
   "source": [
    "# Plot \n",
    "fig, ax = plt.subplots(figsize=(25,27)) \n",
    "ax.margins(0.03)\n",
    "\n",
    "\n",
    "for name, group in groups_mbk:\n",
    "    points = ax.plot(group.x, group.y, marker='o', linestyle='', ms=12, #ms=18\n",
    "                     label=cluster_names[name], mec='none', \n",
    "                     color=cluster_colors[name])\n",
    "    ax.set_aspect('auto')\n",
    "    labels = [i for i in group.title]\n",
    "    \n",
    "    tooltip = mpld3.plugins.PointHTMLTooltip(points[0], labels, voffset=10, hoffset=10, #css=css)\n",
    "    mpld3.plugins.connect(fig, tooltip) #   , TopToolbar()\n",
    "    \n",
    "#     ax.axes.get_xaxis().set_ticks([])\n",
    "#     ax.axes.get_yaxis().set_ticks([])\n",
    "\n",
    "#     ax.axes.get_xaxis().set_visible(False)\n",
    "#     ax.axes.get_yaxis().set_visible(False)\n",
    "\n",
    "# ax.set_title(\"Mini K-Means\", size=20) #groups_mbk\n",
    "    \n",
    "# ax.legend(numpoints=1)\n",
    "# mpld3.disable_notebook()\n",
    "#mpld3.display()\n",
    "# mpld3.save_html(fig, \"mbk.html\")\n",
    "\n",
    "# mpld3.show()\n",
    "#mpld3.save_json(fig, \"vivod.json\")\n",
    "#mpld3.fig_to_html(fig)\n",
    "\n",
    "fig, ax = plt.subplots(figsize=(51,25))\n",
    "\n",
    "scatter = ax.scatter(np.random.normal(size=N),\n",
    "                     np.random.normal(size=N),\n",
    "                     c=np.random.random(size=N),\n",
    "                     s=1000 * np.random.random(size=N),\n",
    "                     alpha=0.3,\n",
    "                     cmap=plt.cm.jet)\n",
    "ax.grid(color='white', linestyle='solid')    \n",
    "\n",
    "ax.set_title(\"Кластеры\", size=20)\n",
    "\n",
    "fig, ax = plt.subplots(figsize=(51,25))\n",
    "\n",
    "labels = ['point {0}'.format(i + 1) for i in range(N)]\n",
    "tooltip = mpld3.plugins.PointLabelTooltip(scatter, labels=labels)\n",
    "mpld3.plugins.connect(fig, tooltip)\n",
    "\n",
    "mpld3.show()fig, ax = plt.subplots(figsize=(72,36))\n",
    "for name, group in groups:\n",
    "    points = ax.plot(group.x, group.y, marker='o', linestyle='', ms=18, \n",
    "                     label=cluster_names[name], mec='none', \n",
    "                     color=cluster_colors[name])\n",
    "    ax.set_aspect('auto')\n",
    "    labels = [i for i in group.title]\n",
    "    tooltip = mpld3.plugins.PointLabelTooltip(points, labels=labels)\n",
    "    mpld3.plugins.connect(fig, tooltip)\n",
    "\n",
    "ax.set_title(\"K-means\", size=20)\n",
    "\n",
    "mpld3.display()"
   ]
  },
  {
   "cell_type": "code",
   "execution_count": 8,
   "metadata": {},
   "outputs": [
    {
     "ename": "NameError",
     "evalue": "name 'dist' is not defined",
     "output_type": "error",
     "traceback": [
      "\u001b[0;31m---------------------------------------------------------------------------\u001b[0m",
      "\u001b[0;31mNameError\u001b[0m                                 Traceback (most recent call last)",
      "\u001b[0;32m<ipython-input-8-f26e879beee1>\u001b[0m in \u001b[0;36m<module>\u001b[0;34m\u001b[0m\n\u001b[1;32m      1\u001b[0m \u001b[0;32mfrom\u001b[0m \u001b[0mscipy\u001b[0m\u001b[0;34m.\u001b[0m\u001b[0mcluster\u001b[0m\u001b[0;34m.\u001b[0m\u001b[0mhierarchy\u001b[0m \u001b[0;32mimport\u001b[0m \u001b[0mward\u001b[0m\u001b[0;34m,\u001b[0m \u001b[0mdendrogram\u001b[0m\u001b[0;34m\u001b[0m\u001b[0;34m\u001b[0m\u001b[0m\n\u001b[0;32m----> 2\u001b[0;31m \u001b[0mlinkage_matrix\u001b[0m \u001b[0;34m=\u001b[0m \u001b[0mward\u001b[0m\u001b[0;34m(\u001b[0m\u001b[0mdist\u001b[0m\u001b[0;34m)\u001b[0m\u001b[0;34m\u001b[0m\u001b[0;34m\u001b[0m\u001b[0m\n\u001b[0m\u001b[1;32m      3\u001b[0m \u001b[0;34m\u001b[0m\u001b[0m\n\u001b[1;32m      4\u001b[0m \u001b[0mfig\u001b[0m\u001b[0;34m,\u001b[0m \u001b[0max\u001b[0m \u001b[0;34m=\u001b[0m \u001b[0mplt\u001b[0m\u001b[0;34m.\u001b[0m\u001b[0msubplots\u001b[0m\u001b[0;34m(\u001b[0m\u001b[0mfigsize\u001b[0m\u001b[0;34m=\u001b[0m\u001b[0;34m(\u001b[0m\u001b[0;36m15\u001b[0m\u001b[0;34m,\u001b[0m \u001b[0;36m20\u001b[0m\u001b[0;34m)\u001b[0m\u001b[0;34m)\u001b[0m\u001b[0;34m\u001b[0m\u001b[0;34m\u001b[0m\u001b[0m\n\u001b[1;32m      5\u001b[0m \u001b[0max\u001b[0m \u001b[0;34m=\u001b[0m \u001b[0mdendrogram\u001b[0m\u001b[0;34m(\u001b[0m\u001b[0mlinkage_matrix\u001b[0m\u001b[0;34m,\u001b[0m \u001b[0morientation\u001b[0m\u001b[0;34m=\u001b[0m\u001b[0;34m\"right\"\u001b[0m\u001b[0;34m,\u001b[0m \u001b[0mlabels\u001b[0m\u001b[0;34m=\u001b[0m\u001b[0mtitles\u001b[0m\u001b[0;34m)\u001b[0m\u001b[0;34m;\u001b[0m\u001b[0;34m\u001b[0m\u001b[0;34m\u001b[0m\u001b[0m\n",
      "\u001b[0;31mNameError\u001b[0m: name 'dist' is not defined"
     ]
    }
   ],
   "source": [
    "from scipy.cluster.hierarchy import ward, dendrogram\n",
    "linkage_matrix = ward(dist)\n",
    "\n",
    "fig, ax = plt.subplots(figsize=(15, 20))\n",
    "ax = dendrogram(linkage_matrix, orientation=\"right\", labels=titles);\n",
    "\n",
    "plt.tick_params(\\\n",
    "    axis= 'x',\n",
    "    which='both', \n",
    "    bottom='off',\n",
    "    top='off',\n",
    "    labelbottom='off')\n",
    "\n",
    "plt.tight_layout() \n",
    "\n",
    "#сохраним рисунок\n",
    "plt.savefig('ward_clusters2.png', dpi=200)"
   ]
  },
  {
   "cell_type": "code",
   "execution_count": 18,
   "metadata": {},
   "outputs": [
    {
     "ename": "SyntaxError",
     "evalue": "invalid syntax (<ipython-input-18-1a0775922923>, line 1)",
     "output_type": "error",
     "traceback": [
      "\u001b[0;36m  File \u001b[0;32m\"<ipython-input-18-1a0775922923>\"\u001b[0;36m, line \u001b[0;32m1\u001b[0m\n\u001b[0;31m    ```\u001b[0m\n\u001b[0m    ^\u001b[0m\n\u001b[0;31mSyntaxError\u001b[0m\u001b[0;31m:\u001b[0m invalid syntax\n"
     ]
    }
   ],
   "source": []
  },
  {
   "cell_type": "code",
   "execution_count": null,
   "metadata": {},
   "outputs": [],
   "source": []
  }
 ],
 "metadata": {
  "kernelspec": {
   "display_name": "Python 3",
   "language": "python",
   "name": "python3"
  },
  "language_info": {
   "codemirror_mode": {
    "name": "ipython",
    "version": 3
   },
   "file_extension": ".py",
   "mimetype": "text/x-python",
   "name": "python",
   "nbconvert_exporter": "python",
   "pygments_lexer": "ipython3",
   "version": "3.8.0"
  }
 },
 "nbformat": 4,
 "nbformat_minor": 4
}
